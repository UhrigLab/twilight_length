{
 "cells": [
  {
   "cell_type": "code",
   "execution_count": 1,
   "metadata": {},
   "outputs": [],
   "source": [
    "# 1\n",
    "import cv2\n",
    "import numpy as np\n",
    "import matplotlib.pyplot as plt\n",
    "from pathlib import Path\n",
    "from datetime import datetime, time\n",
    "from copy import deepcopy\n",
    "\n",
    "from classes.Job import Job, job_to_file, file_to_job\n",
    "from classes.ImageNameParser import ImageNameParser\n",
    "from classes.TimeSetting import TimeSetting\n",
    "from utils.gui.OpenCVWindowExt import CopenCVWindowExt\n",
    "from utils.nogui.undistort import undistort\n",
    "from utils.nogui.correct_exposure import correct_exposure\n",
    "from utils.gui.hsv_threshold_tool import hsv_tool\n",
    "from utils.nogui.check_rois import check_rois"
   ]
  },
  {
   "cell_type": "code",
   "execution_count": 2,
   "metadata": {},
   "outputs": [],
   "source": [
    "# 2\n",
    "# Create a new job\n",
    "j = Job()\n",
    "\n",
    "# Or load an existing job\n",
    "# j = file_to_job(Path(\"jobs/local/z1c2.json\"))"
   ]
  },
  {
   "cell_type": "code",
   "execution_count": 3,
   "metadata": {},
   "outputs": [
    {
     "name": "stdout",
     "output_type": "stream",
     "text": [
      "Found 13 images in job\n"
     ]
    }
   ],
   "source": [
    "# 3\n",
    "j.zonecamera = \"z1c2\"\n",
    "j.description = \"zt23\"\n",
    "\n",
    "j.start_timestamp = datetime(2021,9,2,11,30) # year, month, day, hour, minute, second (last 3 optional)\n",
    "j.end_timestamp = datetime(2021,9,2,12,31)\n",
    "j.light_on_time = time(9,0) # hour, minute, second (last 2 optional)\n",
    "j.light_off_time = time(21,0)\n",
    "\n",
    "j.input_image_dir = Path(f\"images/{j.zonecamera}/\") # input image directory on local machine\n",
    "j.output_image_dir = Path(f\"out/image/{j.zonecamera}/\")\n",
    "j.output_csv_file = Path(f\"out/csv/{j.zonecamera}_out.csv\")\n",
    "\n",
    "# Get a list of all images in the input directory with matching zone, camera, time and date \n",
    "# from above specifications.\n",
    "job_image_paths = j.get_job_images(verbose=False, testing_mode=False)"
   ]
  },
  {
   "cell_type": "code",
   "execution_count": 4,
   "metadata": {},
   "outputs": [],
   "source": [
    "# 4\n",
    "j.undistort = True\n",
    "\n",
    "j.fx = 1813.0215301956628\n",
    "j.cx = 1182.3714436756943\n",
    "j.fy = 1816.6475234144523\n",
    "j.cy = 976.6858512745583\n",
    "\n",
    "j.k1 = -0.17123530115641178\n",
    "j.k2 = 1.3367500066404934\n",
    "j.k3 = -4\n",
    "j.k4 = 4\n",
    "\n",
    "K = np.array([[j.fx, 0.0, j.cx],\n",
    "        [0.0, j.fy, j.cy],\n",
    "        [0.0, 0.0, 1.0]]) # camera intrinsic matrix\n",
    "\n",
    "D = np.array([j.k1, j.k2, j.k3, j.k4], dtype=np.float64) # camera distortion matrix"
   ]
  },
  {
   "cell_type": "code",
   "execution_count": 5,
   "metadata": {},
   "outputs": [],
   "source": [
    "# 5\n",
    "# Define a list of the various camera angles, with one example of each, for this job.\n",
    "# We may need multiple camera angles if the camera or plants moved during the job.\n",
    "j.camera_angle_paths = [\n",
    "    Path(r\"images/z1c2/z1c2--2021-09-02--11-30-07.png\"),\n",
    "\n",
    "    # for example, if the camera was bumped at 11:59, we would also include:\n",
    "    # Path(r\"images/z1c2/z1c2--2021-09-02--12-00-07.png\"),\n",
    "]"
   ]
  },
  {
   "attachments": {},
   "cell_type": "markdown",
   "metadata": {},
   "source": [
    "# Camera 2 map"
   ]
  },
  {
   "cell_type": "code",
   "execution_count": 6,
   "metadata": {},
   "outputs": [],
   "source": [
    "# 6\n",
    "# manually set genotype map\n",
    "# camera 2 map\n",
    "# start = datetime(2022,7,22)\n",
    "# end = datetime(2022,8,5)\n",
    "start = j.start_timestamp\n",
    "end = j.end_timestamp\n",
    "setting = {\n",
    "            '0': \"WT\",\n",
    "            '1': \"lhycca1\",\n",
    "            '2': \"WT\",\n",
    "            '3': \"lhycca1\",\n",
    "\n",
    "            '4': \"WT\",\n",
    "            '5': \"lhycca1\",\n",
    "            '6': \"WT\",\n",
    "            '7': \"lhycca1\",\n",
    "\n",
    "            '8': \"WT\",\n",
    "            '9': \"lhycca1\",\n",
    "            '10': \"WT\",\n",
    "            '11': \"lhycca1\",\n",
    "\n",
    "            '12': \"WT\",\n",
    "            '13': \"lhycca1\",\n",
    "            '14': \"WT\",\n",
    "            '15': \"lhycca1\",\n",
    "\n",
    "            '16': \"WT\",\n",
    "            '17': \"lhycca1\",\n",
    "            '18': \"WT\",\n",
    "            '19': \"lhycca1\",\n",
    "\n",
    "            '20': \"WT\",\n",
    "            '21': \"lhycca1\",\n",
    "            '22': \"WT\",\n",
    "            '23': \"lhycca1\",\n",
    "            \n",
    "            '24': \"WT\",\n",
    "            '25': \"lhycca1\",\n",
    "            '26': \"WT\",\n",
    "            '27': \"lhycca1\",\n",
    "        }\n",
    "j.genotype_map.add_setting(start, end, setting)"
   ]
  },
  {
   "cell_type": "code",
   "execution_count": null,
   "metadata": {},
   "outputs": [],
   "source": [
    "# 7 (ignore for demo)\n",
    "# white spot roi\n",
    "white_spot_rois = {}\n",
    "for camera_angle_path in j.camera_angle_paths:\n",
    "    img = cv2.imread(str(camera_angle_path))\n",
    "    if j.undistort:\n",
    "        img = undistort(img, K, D)\n",
    "    undistorted = img\n",
    "    window = CopenCVWindowExt(camera_angle_path.name)\n",
    "    window.SetInitialScale(0.5)\n",
    "    window.ImRead(undistorted, mode=\"array\")\n",
    "    \n",
    "    key = cv2.waitKey(0)\n",
    "    if key == ord(\"q\"):\n",
    "        cv2.destroyAllWindows()\n",
    "        cv2.waitKey(1)\n",
    "        break\n",
    "    try:\n",
    "        print(camera_angle_path.name)\n",
    "        print(\"rois len = \", len(window.rois))\n",
    "        print(\"1st roi len = \", len(window.rois[0]))\n",
    "        if len(window.rois) == 1 and len(window.rois[0]) == 4:\n",
    "            white_spot_rois[camera_angle_path.name] = window.rois\n",
    "        else:\n",
    "            print(\"1 square roi still required for\", camera_angle_path.name)\n",
    "    except IndexError:\n",
    "        continue"
   ]
  },
  {
   "cell_type": "code",
   "execution_count": null,
   "metadata": {},
   "outputs": [],
   "source": [
    "# 8 (ignore for demo)\n",
    "print(len(white_spot_rois))\n",
    "print(white_spot_rois.keys())"
   ]
  },
  {
   "cell_type": "code",
   "execution_count": null,
   "metadata": {},
   "outputs": [],
   "source": [
    "# 9 (ignore for demo, uses similar logic as other time-dependent settings)\n",
    "# set white spot rois\n",
    "rois = white_spot_rois\n",
    "# j.white_spot_roi.add_setting(start, end, setting)\n",
    "\n",
    "# start = datetime(2022,7,22)\n",
    "# end = datetime(2022,8,5)\n",
    "start = j.start_timestamp\n",
    "# end = datetime(2021,11,21)\n",
    "end = j.end_timestamp\n",
    "setting = rois['z1c2--2023-01-01--14-00-01.png']\n",
    "j.white_spot_roi.add_setting(start, end, setting)\n",
    "\n",
    "# start = datetime(2021,11,21)\n",
    "# end = j.end_timestamp\n",
    "# setting = rois['z2c2--2021-11-21--12-30-01.png']\n",
    "# j.white_spot_roi.add_setting(start, end, setting)"
   ]
  },
  {
   "cell_type": "code",
   "execution_count": null,
   "metadata": {},
   "outputs": [],
   "source": [
    "# 10 (ignore for demo)\n",
    "print(len(j.white_spot_roi))\n",
    "print(j.white_spot_roi)\n",
    "print(j.white_spot_roi.check_coverage())"
   ]
  },
  {
   "cell_type": "code",
   "execution_count": 7,
   "metadata": {},
   "outputs": [
    {
     "name": "stdout",
     "output_type": "stream",
     "text": [
      "Found 13 images in job\n",
      "z1c2--2021-09-02--11-30-07.png 111.54842568513014\n",
      "z1c2--2021-09-02--11-35-07.png 111.44113952236702\n",
      "z1c2--2021-09-02--11-40-07.png 111.52337154577131\n",
      "z1c2--2021-09-02--11-45-07.png 111.54376205301952\n",
      "z1c2--2021-09-02--11-50-07.png 111.62995410855815\n",
      "z1c2--2021-09-02--11-55-07.png 111.71107926520772\n",
      "z1c2--2021-09-02--12-00-07.png 111.62907130095344\n",
      "z1c2--2021-09-02--12-05-07.png 111.5989679254729\n",
      "z1c2--2021-09-02--12-10-07.png 111.69988755366306\n",
      "z1c2--2021-09-02--12-15-07.png 111.60117676368355\n",
      "z1c2--2021-09-02--12-20-07.png 111.52714410119138\n",
      "z1c2--2021-09-02--12-25-07.png 111.61735413861793\n",
      "z1c2--2021-09-02--12-30-06.png 111.5889005449923\n"
     ]
    },
    {
     "data": {
      "image/png": "[encoded data removed]",
      "text/plain": [
       "<Figure size 640x480 with 1 Axes>"
      ]
     },
     "metadata": {},
     "output_type": "display_data"
    }
   ],
   "source": [
    "# 11\n",
    "# create list of undistorted + exposure corrected images\n",
    "exp_corrected = []\n",
    "exp_corrected_paths = []\n",
    "averages = []\n",
    "img_paths = j.get_job_images(verbose=False, testing_mode=False)\n",
    "img_paths.sort()\n",
    "for img_path in img_paths:\n",
    "    img_path : Path\n",
    "    inp = ImageNameParser(img_path.name)\n",
    "    timestamp = inp.get_timestamp()\n",
    "    img = cv2.imread(str(img_path.absolute()))\n",
    "    if j.undistort:\n",
    "        img = undistort(img, K, D)\n",
    "    undistorted = img\n",
    "    white_spot_roi = j.white_spot_roi.get_setting(timestamp)\n",
    "    if white_spot_roi is not None:\n",
    "        exp_corrected_img = correct_exposure(undistorted, white_spot_roi)\n",
    "    else:\n",
    "        exp_corrected_img = undistorted\n",
    "    exp_corrected.append(exp_corrected_img)\n",
    "    exp_corrected_paths.append(img_path)\n",
    "    print(img_path.name, np.average(exp_corrected_img))\n",
    "    averages.append(np.average(exp_corrected_img))\n",
    "plt.hist(averages, bins=100)\n",
    "plt.show()"
   ]
  },
  {
   "cell_type": "code",
   "execution_count": 8,
   "metadata": {},
   "outputs": [],
   "source": [
    "# 12\n",
    "j.np_average_min = 80\n",
    "j.np_average_max = 170"
   ]
  },
  {
   "cell_type": "code",
   "execution_count": 9,
   "metadata": {},
   "outputs": [],
   "source": [
    "# 13\n",
    "upper_hsv = [60, 255, 255]\n",
    "lower_hsv = [30, 10, 125]\n",
    "mask_fill_threshold = 50"
   ]
  },
  {
   "cell_type": "code",
   "execution_count": 10,
   "metadata": {},
   "outputs": [
    {
     "name": "stdout",
     "output_type": "stream",
     "text": [
      "z1c2\n",
      "\n",
      "\n",
      "HSV UPPER = [60, 255, 255]\n",
      "HSV LOWER = [30, 10, 125]\n",
      "MASK FILL = 50\n",
      "\n",
      "\n"
     ]
    }
   ],
   "source": [
    "# 14\n",
    "order = \"low-high\"\n",
    "# order = \"high-low\"\n",
    "\n",
    "checked = deepcopy(exp_corrected)\n",
    "\n",
    "if order == \"high-low\":\n",
    "    checked.reverse()\n",
    "\n",
    "\n",
    "done = False\n",
    "while True:\n",
    "    try:\n",
    "        print(j.zonecamera)\n",
    "        img = checked.pop(0)\n",
    "        if np.average(img) < j.np_average_min or np.average(img) > j.np_average_max:\n",
    "            continue\n",
    "        lower_hsv, upper_hsv, mask_fill_threshold = hsv_tool([img], lower_hsv, upper_hsv, mask_fill_threshold, mode=\"array\", img_scale=0.25)\n",
    "    except IndexError:\n",
    "        print(\"reached end of list\")\n",
    "        checked = deepcopy(exp_corrected)\n",
    "    else:\n",
    "        if input(\"done? (y/n)\").upper() == \"Y\":\n",
    "            done = True\n",
    "            break\n",
    "    if done:\n",
    "        break\n",
    "    "
   ]
  },
  {
   "cell_type": "code",
   "execution_count": 11,
   "metadata": {},
   "outputs": [
    {
     "name": "stdout",
     "output_type": "stream",
     "text": [
      "[60, 255, 255]\n",
      "[30, 10, 125]\n",
      "50\n"
     ]
    }
   ],
   "source": [
    "# 15\n",
    "print(upper_hsv)\n",
    "print(lower_hsv)\n",
    "print(mask_fill_threshold)"
   ]
  },
  {
   "cell_type": "code",
   "execution_count": 12,
   "metadata": {},
   "outputs": [],
   "source": [
    "# 16\n",
    "j.upper_hsv = upper_hsv\n",
    "j.lower_hsv = lower_hsv\n",
    "j.mask_fill_threshold = mask_fill_threshold"
   ]
  },
  {
   "cell_type": "code",
   "execution_count": null,
   "metadata": {},
   "outputs": [],
   "source": [
    "# 17 (ignore for demo)\n",
    "j.size_marker_upper_hsv = upper_hsv\n",
    "j.size_marker_lower_hsv = lower_hsv\n",
    "j.size_marker_fill_threshold = mask_fill_threshold"
   ]
  },
  {
   "cell_type": "code",
   "execution_count": null,
   "metadata": {},
   "outputs": [],
   "source": [
    "# 18 (ignore for demo)\n",
    "# size marker rois\n",
    "size_marker_rois = {}\n",
    "for camera_angle_path in j.camera_angle_paths:\n",
    "    img = cv2.imread(str(camera_angle_path))\n",
    "    if j.undistort:\n",
    "        img = undistort(img, K, D)\n",
    "    undistorted = img\n",
    "    window = CopenCVWindowExt(camera_angle_path.name)\n",
    "    window.SetInitialScale(1.0)\n",
    "    window.ImRead(undistorted, mode=\"array\")\n",
    "    \n",
    "    key = cv2.waitKey(0)\n",
    "    if key == ord(\"q\"):\n",
    "        cv2.destroyAllWindows()\n",
    "        break\n",
    "    try:\n",
    "        print(camera_angle_path.name)\n",
    "        print(\"rois len = \", len(window.rois))\n",
    "        if len(window.rois) == 1:\n",
    "            size_marker_rois[camera_angle_path.name] = window.rois\n",
    "        else:\n",
    "            print(\"1 size marker roi still required for\", camera_angle_path.name)\n",
    "    except IndexError:\n",
    "        continue"
   ]
  },
  {
   "cell_type": "code",
   "execution_count": null,
   "metadata": {},
   "outputs": [],
   "source": [
    "# 19 (ignore for demo)\n",
    "print(len(size_marker_rois))\n",
    "for key in size_marker_rois.keys():\n",
    "    print(key)\n",
    "\n",
    "for key in j.plant_rois.keys():\n",
    "    print(key)\n",
    "# print(size_marker_rois.keys())\n",
    "# print(j.plant_rois.keys())"
   ]
  },
  {
   "cell_type": "code",
   "execution_count": null,
   "metadata": {},
   "outputs": [],
   "source": [
    "# 20 (ignore for demo)\n",
    "# set size marker rois\n",
    "j.size_marker_rois = TimeSetting()\n",
    "rois = size_marker_rois\n",
    "# j.size_marker_rois.add_setting(start, end, setting)\n",
    "\n",
    "start = j.start_timestamp\n",
    "# end = datetime(2021,11,21)\n",
    "end = j.end_timestamp\n",
    "setting = rois['z12c2--2021-11-21--12-30-01.png']\n",
    "j.size_marker_rois.add_setting(start, end, setting)\n",
    "\n",
    "# start = datetime(2021,11,21)\n",
    "# end = j.end_timestamp\n",
    "# setting = rois['z2c2--2021-11-21--12-30-01.png']\n",
    "# j.size_marker_rois.add_setting(start, end, setting)\n"
   ]
  },
  {
   "cell_type": "code",
   "execution_count": null,
   "metadata": {},
   "outputs": [],
   "source": [
    "# 21 (ignore for demo)\n",
    "print(len(j.size_marker_rois))\n",
    "print(j.size_marker_rois.check_coverage())"
   ]
  },
  {
   "cell_type": "code",
   "execution_count": 13,
   "metadata": {},
   "outputs": [
    {
     "name": "stdout",
     "output_type": "stream",
     "text": [
      "z1c2--2021-09-02--11-30-07.png\n",
      "rois len =  28\n"
     ]
    }
   ],
   "source": [
    "# 22\n",
    "# plant rois\n",
    "plant_rois = {}\n",
    "for camera_angle_path in j.camera_angle_paths:\n",
    "    inp = ImageNameParser(camera_angle_path.name)\n",
    "    timestamp = inp.get_timestamp()\n",
    "    img = cv2.imread(str(camera_angle_path))\n",
    "    if j.undistort:\n",
    "        img = undistort(img, K, D)\n",
    "    undistorted = img\n",
    "    window = CopenCVWindowExt(camera_angle_path.name)\n",
    "    window.SetInitialScale(0.5)\n",
    "    window.ImRead(undistorted, mode=\"array\")\n",
    "    \n",
    "    key = cv2.waitKey(0)\n",
    "    if key == ord(\"q\"):\n",
    "        cv2.destroyAllWindows()\n",
    "        break\n",
    "    try:\n",
    "        print(camera_angle_path.name)\n",
    "        print(\"rois len = \", len(window.rois))\n",
    "        if len(window.rois) == len(j.genotype_map.get_setting(timestamp)):\n",
    "            plant_rois[camera_angle_path.name] = window.rois\n",
    "        else:\n",
    "            print(f\"rois len {len(window.rois)} != genotype map len {len(j.genotype_map.get_setting(timestamp))} for image\", camera_angle_path.name)\n",
    "    except IndexError:\n",
    "        continue"
   ]
  },
  {
   "cell_type": "code",
   "execution_count": 14,
   "metadata": {},
   "outputs": [
    {
     "name": "stdout",
     "output_type": "stream",
     "text": [
      "1\n",
      "dict_keys(['z1c2--2021-09-02--11-30-07.png'])\n"
     ]
    }
   ],
   "source": [
    "# 23\n",
    "print(len(plant_rois))\n",
    "print(plant_rois.keys())"
   ]
  },
  {
   "cell_type": "code",
   "execution_count": 15,
   "metadata": {},
   "outputs": [],
   "source": [
    "# 24\n",
    "# set plant rois\n",
    "rois = plant_rois\n",
    "\n",
    "start = j.start_timestamp\n",
    "end = j.end_timestamp\n",
    "setting = rois['z1c2--2021-09-02--11-30-07.png']\n",
    "j.plant_rois.add_setting(start, end, setting)\n",
    "\n",
    "# start = datetime(2021,11,21)\n",
    "# end = j.end_timestamp\n",
    "# setting = rois['z2c2--2021-11-21--12-30-01.png']\n",
    "# j.plant_rois.add_setting(start, end, setting)"
   ]
  },
  {
   "cell_type": "code",
   "execution_count": 16,
   "metadata": {},
   "outputs": [
    {
     "name": "stdout",
     "output_type": "stream",
     "text": [
      "1\n",
      "True\n"
     ]
    }
   ],
   "source": [
    "# 25\n",
    "print(len(j.plant_rois))\n",
    "print(j.plant_rois.check_coverage())"
   ]
  },
  {
   "cell_type": "code",
   "execution_count": 17,
   "metadata": {},
   "outputs": [],
   "source": [
    "# 26\n",
    "# check camera angle rois\n",
    "for camera_angle_path in j.camera_angle_paths:\n",
    "    img = cv2.imread(str(camera_angle_path))\n",
    "    timestamp = ImageNameParser(camera_angle_path.name).get_timestamp()\n",
    "    if j.undistort:\n",
    "        img = undistort(img, K, D)\n",
    "    undistorted = img\n",
    "\n",
    "    # combined_rois = j.white_spot_roi.get_setting(timestamp) + j.plant_rois.get_setting(timestamp) + j.size_marker_rois.get_setting(timestamp)\n",
    "    combined_rois = j.plant_rois.get_setting(timestamp) # + j.size_marker_rois.get_setting(timestamp)\n",
    "    \n",
    "    img = check_rois(undistorted, combined_rois)\n",
    "    window = CopenCVWindowExt(camera_angle_path.name)\n",
    "    window.SetInitialScale(0.5)\n",
    "    window.ImRead(img, mode=\"array\")\n",
    "    key = cv2.waitKey(0)\n",
    "    if key == ord(\"q\"):\n",
    "        cv2.destroyAllWindows()"
   ]
  },
  {
   "cell_type": "code",
   "execution_count": null,
   "metadata": {},
   "outputs": [],
   "source": [
    "# 27 (ignore for demo)\n",
    "# check all rois\n",
    "\n",
    "order = \"low-high\"\n",
    "# order = \"high-low\"\n",
    "\n",
    "checked = deepcopy(exp_corrected)\n",
    "checked_paths = deepcopy(exp_corrected_paths)\n",
    "\n",
    "if order == \"high-low\":\n",
    "    checked.reverse()\n",
    "    checked_paths.reverse()\n",
    "\n",
    "\n",
    "done = False\n",
    "while True:\n",
    "    try:\n",
    "        print(j.zonecamera)\n",
    "        img = checked.pop(0)\n",
    "        path = checked_paths.pop(0)\n",
    "        \n",
    "        if np.average(img) < j.np_average_min or np.average(img) > j.np_average_max:\n",
    "            continue\n",
    "\n",
    "        timestamp = ImageNameParser(path.name).get_timestamp()\n",
    "        # combined_rois = j.white_spot_roi.get_setting(timestamp) + j.plant_rois.get_setting(timestamp) + j.size_marker_rois.get_setting(timestamp)\n",
    "        # combined_rois = j.plant_rois.get_setting(timestamp) + j.size_marker_rois.get_setting(timestamp)\n",
    "        combined_rois = j.plant_rois.get_setting(timestamp)\n",
    "        \n",
    "        img = check_rois(img, combined_rois)\n",
    "        window = CopenCVWindowExt(path.name)\n",
    "        window.SetInitialScale(0.5)\n",
    "        window.ImRead(img, mode=\"array\")\n",
    "        key = cv2.waitKey(0)\n",
    "        if key == ord(\"q\"):\n",
    "            cv2.destroyAllWindows()\n",
    "    \n",
    "    except IndexError:\n",
    "        print(\"reached end of list\")\n",
    "        checked = deepcopy(exp_corrected)\n",
    "    else:\n",
    "        if input(\"done? (y/n)\").upper() == \"Y\":\n",
    "            done = True\n",
    "            break\n",
    "    if done:\n",
    "        break"
   ]
  },
  {
   "cell_type": "code",
   "execution_count": 18,
   "metadata": {},
   "outputs": [
    {
     "name": "stdout",
     "output_type": "stream",
     "text": [
      "z1c2\n",
      "missing white_spot_roi\n",
      "missing size_marker_rois\n",
      "missing size_marker_upper_hsv\n",
      "missing size_marker_lower_hsv\n",
      "missing size_marker_fill_threshold\n"
     ]
    }
   ],
   "source": [
    "# 28\n",
    "# check for missing values\n",
    "print(j)\n",
    "for k,v in j.__dict__.items():\n",
    "    \n",
    "    if v in [None, \"\", [], {}]:\n",
    "        print(\"missing\", k)\n"
   ]
  },
  {
   "cell_type": "code",
   "execution_count": 21,
   "metadata": {},
   "outputs": [
    {
     "name": "stdout",
     "output_type": "stream",
     "text": [
      "saved to jobs/demo/z1c2.json\n"
     ]
    }
   ],
   "source": [
    "# 29\n",
    "# input image dir for server\n",
    "zonestr = str(j.get_zone())\n",
    "camerastr = str(j.get_camera())\n",
    "\n",
    "# input image dir for my pc\n",
    "j.input_image_dir = Path(f\"images/{j.zonecamera}/\")\n",
    "j.output_image_dir = Path(f\"out/image/{j.zonecamera}/\")\n",
    "\n",
    "job_to_file(j, Path(f\"jobs/demo/{j.zonecamera}.json\"))\n",
    "print(f\"saved to jobs/demo/{j.zonecamera}.json\")"
   ]
  }
 ],
 "metadata": {
  "kernelspec": {
   "display_name": "Python 3.8.10 64-bit (system)",
   "language": "python",
   "name": "python3"
  },
  "language_info": {
   "codemirror_mode": {
    "name": "ipython",
    "version": 3
   },
   "file_extension": ".py",
   "mimetype": "text/x-python",
   "name": "python",
   "nbconvert_exporter": "python",
   "pygments_lexer": "ipython3",
   "version": "3.8.10"
  },
  "vscode": {
   "interpreter": {
    "hash": "38d789cbf0c3966cc6d9ec1879e9e185df0bf317c562d56e66b19b27ff7d9fa0"
   }
  }
 },
 "nbformat": 4,
 "nbformat_minor": 2
}
